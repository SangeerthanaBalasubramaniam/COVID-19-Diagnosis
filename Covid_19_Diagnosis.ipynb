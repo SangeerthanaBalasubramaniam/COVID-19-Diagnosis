{
  "nbformat": 4,
  "nbformat_minor": 0,
  "metadata": {
    "colab": {
      "name": "Covid-19 Diagnosis.ipynb",
      "provenance": [],
      "collapsed_sections": []
    },
    "kernelspec": {
      "name": "python3",
      "display_name": "Python 3"
    },
    "language_info": {
      "name": "python"
    }
  },
  "cells": [
    {
      "cell_type": "markdown",
      "metadata": {
        "id": "DqzsiBAFupmZ"
      },
      "source": [
        "# Import"
      ]
    },
    {
      "cell_type": "code",
      "metadata": {
        "id": "HBiZRhAB4LEj"
      },
      "source": [
        "%matplotlib inline\n",
        "from glob import glob\n",
        "import cv2\n",
        "import PIL\n",
        "import math\n",
        "import tqdm\n",
        "import pickle\n",
        "import pandas as pd\n",
        "import numpy as np\n",
        "import seaborn as sns\n",
        "import matplotlib.pyplot as plt\n",
        "from torchvision import datasets\n",
        "from sklearn.model_selection import train_test_split\n",
        "from sklearn.preprocessing import LabelEncoder, StandardScaler\n",
        "from skimage.filters import gabor\n",
        "from skimage.feature import local_binary_pattern, greycomatrix, greycoprops"
      ],
      "execution_count": null,
      "outputs": []
    },
    {
      "cell_type": "markdown",
      "metadata": {
        "id": "8ZtSuzKfulTO"
      },
      "source": [
        "## Imbalance imports"
      ]
    },
    {
      "cell_type": "code",
      "metadata": {
        "id": "M7yPCjbtueoQ"
      },
      "source": [
        "from collections import Counter\n",
        "from imblearn.over_sampling import SMOTEN\n",
        "from sklearn.dummy import DummyClassifier"
      ],
      "execution_count": null,
      "outputs": []
    },
    {
      "cell_type": "markdown",
      "metadata": {
        "id": "Xkby5MJZ6ULV"
      },
      "source": [
        "## Decomposition imports"
      ]
    },
    {
      "cell_type": "code",
      "metadata": {
        "id": "y8470Foh6MRk"
      },
      "source": [
        "from sklearn.decomposition import PCA,FastICA\n",
        "from sklearn.discriminant_analysis import LinearDiscriminantAnalysis\n",
        "from sklearn.manifold import LocallyLinearEmbedding\n",
        "from sklearn.manifold import TSNE"
      ],
      "execution_count": null,
      "outputs": []
    },
    {
      "cell_type": "markdown",
      "metadata": {
        "id": "vvBS7BTQAo0S"
      },
      "source": [
        "## Ensemble Imports"
      ]
    },
    {
      "cell_type": "code",
      "metadata": {
        "id": "hPmF_JjjAQ-E"
      },
      "source": [
        "from sklearn.ensemble import RandomForestClassifier"
      ],
      "execution_count": null,
      "outputs": []
    },
    {
      "cell_type": "markdown",
      "metadata": {
        "id": "yX8cP2wVA44g"
      },
      "source": [
        "## Evaluation Metrics Imports"
      ]
    },
    {
      "cell_type": "code",
      "metadata": {
        "id": "ziTs0seTA5SS"
      },
      "source": [
        "from sklearn.metrics import classification_report,confusion_matrix\n",
        "from sklearn.metrics import mean_absolute_error, accuracy_score"
      ],
      "execution_count": null,
      "outputs": []
    },
    {
      "cell_type": "code",
      "metadata": {
        "id": "GRCFI8K-4RSc"
      },
      "source": [
        "from google.colab import drive\n",
        "drive.mount('/content/drive')"
      ],
      "execution_count": null,
      "outputs": []
    },
    {
      "cell_type": "code",
      "metadata": {
        "id": "zvq_hsL44-NA"
      },
      "source": [
        "%cd /content/drive/MyDrive/Amrita/Semester 6/semester_projects/Machine Learning/Dataset/"
      ],
      "execution_count": null,
      "outputs": []
    },
    {
      "cell_type": "code",
      "metadata": {
        "id": "rPME1kBI5HZX"
      },
      "source": [
        "%ls"
      ],
      "execution_count": null,
      "outputs": []
    },
    {
      "cell_type": "code",
      "metadata": {
        "id": "Q_H4RAVE5JBb"
      },
      "source": [
        "#define size to which images are to be resized\n",
        "IMAGE_SIZE = [200, 200] # feel free to change depending on dataset\n",
        "\n",
        "# training config:\n",
        "epochs = 500\n",
        "batch_size = 32\n",
        "\n",
        "#define paths\n",
        "covid_path = 'COVID'\n",
        "noncovid_path = 'non-COVID'\n",
        "\n",
        "# Use glob to grab images from path .jpg or jpeg\n",
        "covid_files = glob(covid_path + '/*')\n",
        "noncovid_files = glob(noncovid_path + '/*')"
      ],
      "execution_count": null,
      "outputs": []
    },
    {
      "cell_type": "code",
      "metadata": {
        "id": "udfg8cFE5a-_"
      },
      "source": [
        "print(\"First 5 Covid Files: \",covid_files[0:5])\n",
        "print(\"Total Count: \",len(covid_files))\n",
        "print(\"First 5 NonCovid Files: \",noncovid_files[0:5])\n",
        "print(\"Total Count: \",len(noncovid_files))"
      ],
      "execution_count": null,
      "outputs": []
    },
    {
      "cell_type": "code",
      "metadata": {
        "id": "j1PoPdXt5f2w"
      },
      "source": [
        "#lables generation\n",
        "covid_labels = []\n",
        "noncovid_labels = []\n",
        "for i in range(len(covid_files)):\n",
        "  covid_labels.append(\"covid\")\n",
        "for i in range(len(covid_files)):\n",
        "  noncovid_labels.append(\"noncovid\")"
      ],
      "execution_count": null,
      "outputs": []
    },
    {
      "cell_type": "code",
      "metadata": {
        "id": "MAm_IGFy5mgh"
      },
      "source": [
        "files = covid_files + noncovid_files\n",
        "lables = covid_labels + noncovid_labels\n",
        "df = pd.DataFrame(list(zip(files, lables)),columns =['Files', 'Lables'])\n",
        "df = df.sample(frac=1, random_state=42) #shuffle dataset"
      ],
      "execution_count": null,
      "outputs": []
    },
    {
      "cell_type": "markdown",
      "metadata": {
        "id": "rLIYLrzZmo5f"
      },
      "source": [
        "HSV Extraction"
      ]
    },
    {
      "cell_type": "code",
      "metadata": {
        "id": "ScU-ZO1jmnrp"
      },
      "source": [
        "# H = []\n",
        "# S = []\n",
        "# V = []\n",
        "# label = []\n",
        "# featLength = 2+5+2\n",
        "# trainFeats = np.zeros((len(df),featLength)) #Feature vector of each image is of size 1x1030\n",
        "# #for index in tqdm.tqdm_notebook(range(len(df))):\n",
        "# img = PIL.Image.open(df[\"Files\"][1]) #One image at a time\n",
        "# img = img.resize((IMAGE_SIZE[0],IMAGE_SIZE[1]))\n",
        "# h,s,v = img.convert(\"HSV\").split();\n",
        "# print(type(h))\n",
        "    \n"
      ],
      "execution_count": null,
      "outputs": []
    },
    {
      "cell_type": "code",
      "metadata": {
        "id": "ONjk2UJX3tQw"
      },
      "source": [
        "label = []\n",
        "featLength = 2+5+2\n",
        "trainFeats = np.zeros((len(df),featLength)) #Feature vector of each image is of size 1x1030\n",
        "for index in tqdm.tqdm_notebook(range(len(df))):\n",
        "    img = PIL.Image.open(df[\"Files\"][index]) #One image at a time\n",
        "    img = img.resize((IMAGE_SIZE[0],IMAGE_SIZE[1]))\n",
        "    img_gray = img.convert('L') #Converting to grayscale\n",
        "    img_gray = PIL.ImageOps.equalize(img_gray, mask = None)\n",
        "    img_arr = np.array(img_gray.getdata()).reshape(img.size[1],img.size[0]) #Converting to array\n",
        "    # LBP\n",
        "    feat_lbp = local_binary_pattern(img_arr,5,2,'uniform').reshape(img.size[0]*img.size[1])\n",
        "    lbp_hist,_ = np.histogram(feat_lbp,8)\n",
        "    lbp_hist = np.array(lbp_hist,dtype=float)\n",
        "    lbp_prob = np.divide(lbp_hist,np.sum(lbp_hist))\n",
        "    lbp_energy = np.nansum(lbp_prob**2)\n",
        "    lbp_entropy = -np.nansum(np.multiply(lbp_prob,np.log2(lbp_prob)))   \n",
        "    # GLCM\n",
        "    gCoMat = greycomatrix(img_arr, [2], [0],256,symmetric=True, normed=True)\n",
        "    contrast = greycoprops(gCoMat, prop='contrast')\n",
        "    dissimilarity = greycoprops(gCoMat, prop='dissimilarity')\n",
        "    homogeneity = greycoprops(gCoMat, prop='homogeneity')    \n",
        "    energy = greycoprops(gCoMat, prop='energy')\n",
        "    correlation = greycoprops(gCoMat, prop='correlation')    \n",
        "    feat_glcm = np.array([contrast[0][0],dissimilarity[0][0],homogeneity[0][0],energy[0][0],correlation[0][0]])\n",
        "    # Gabor filter\n",
        "    gaborFilt_real,gaborFilt_imag = gabor(img_arr,frequency=0.6)\n",
        "    gaborFilt = (gaborFilt_real**2+gaborFilt_imag**2)//2\n",
        "    gabor_hist,_ = np.histogram(gaborFilt,8)\n",
        "    gabor_hist = np.array(gabor_hist,dtype=float)\n",
        "    gabor_prob = np.divide(gabor_hist,np.sum(gabor_hist))\n",
        "    gabor_energy = np.nansum(gabor_prob**2)\n",
        "    gabor_entropy = -np.nansum(np.multiply(gabor_prob,np.log2(gabor_prob)))\n",
        "    # Concatenating features(2+5+2)    \n",
        "    concat_feat = np.concatenate(([lbp_energy,lbp_entropy],feat_glcm,[gabor_energy,gabor_entropy]),axis=0)\n",
        "    trainFeats[index,:] = concat_feat #Stacking features vectors for each image\n",
        "    # Class label\n",
        "    label.append(df[\"Lables\"][index])\n",
        "trainLabel = np.array(label) #Conversion from list to array"
      ],
      "execution_count": null,
      "outputs": []
    },
    {
      "cell_type": "code",
      "metadata": {
        "id": "dTZv2a4V5uZp"
      },
      "source": [
        "# Normalizing the train features to the range [0,1]\n",
        "trMaxs = np.amax(trainFeats,axis=0) #Finding maximum along each column\n",
        "trMins = np.amin(trainFeats,axis=0) #Finding maximum along each column\n",
        "trMaxs_rep = np.tile(trMaxs,(2481,1)) #Repeating the maximum value along the rows\n",
        "trMins_rep = np.tile(trMins,(2481,1)) #Repeating the minimum value along the rows\n",
        "trainFeatsNorm = np.divide(trainFeats-trMins_rep,trMaxs_rep) #Element-wise division\n",
        "# Normalizing the test features\n",
        "tsMaxs_rep = np.tile(trMaxs,(10000,1)) #Repeating the maximum value along the rows\n",
        "tsMins_rep = np.tile(trMins,(10000,1)) #Repeating the maximum value along the rows"
      ],
      "execution_count": null,
      "outputs": []
    },
    {
      "cell_type": "code",
      "metadata": {
        "id": "Kj8R3D1qBYVe"
      },
      "source": [
        "testFeatsNorm = np.divide(testFeats-tsMins_rep,tsMaxs_rep) #Element-wise division"
      ],
      "execution_count": null,
      "outputs": []
    },
    {
      "cell_type": "code",
      "metadata": {
        "id": "KK0O9R8pCEgX"
      },
      "source": [
        "with open(\"trainFeatsNew.pckl\", \"wb\") as f:\n",
        "    pickle.dump(trainFeatsNorm, f)\n",
        "with open(\"trainLabelNew.pckl\", \"wb\") as f:\n",
        "    pickle.dump(trainLabel, f)"
      ],
      "execution_count": null,
      "outputs": []
    },
    {
      "cell_type": "code",
      "metadata": {
        "id": "gs4qI3Bb5z6g"
      },
      "source": [
        "\n",
        "    \n",
        "# Saving normalized testing data and labels\n",
        "with open(\"testFeatsNew.pckl\", \"wb\") as f:\n",
        "    pickle.dump(testFeatsNorm, f)\n",
        "with open(\"testLabelNew.pckl\", \"wb\") as f:\n",
        "    pickle.dump(testLabel, f)\n",
        "    \n",
        "print('Files saved to disk!')"
      ],
      "execution_count": null,
      "outputs": []
    },
    {
      "cell_type": "code",
      "metadata": {
        "id": "-iK8Ktt86-0X"
      },
      "source": [
        "X = pd.read_pickle('https://github.com/SangeerthanaBalasubramaniam/COVID-19-Diagnosis/blob/main/trainFeatsNew.pckl?raw=true')\n",
        "Y = pd.read_pickle('https://github.com/SangeerthanaBalasubramaniam/COVID-19-Diagnosis/blob/main/covidLable.pckl?raw=true')\n",
        "X = pd.DataFrame(X,columns=['lbp_energy','lbp_entropy','glcm_contrast','glcm_dissimilarity','glcm_homogeniety','glcm_energy','glcm_correlation','gabor_energy','gabor_entropy'])\n",
        "Y = pd.DataFrame(Y,columns=['labels'])"
      ],
      "execution_count": null,
      "outputs": []
    },
    {
      "cell_type": "code",
      "metadata": {
        "id": "Qd9HwRdWylqW"
      },
      "source": [
        "label_encoder = LabelEncoder()\n",
        "Y['labels'] = label_encoder.fit_transform(Y[\"labels\"])"
      ],
      "execution_count": null,
      "outputs": []
    },
    {
      "cell_type": "code",
      "metadata": {
        "id": "jSgvzwTb2GCB"
      },
      "source": [
        "X = X.sample(frac=1,random_state=42)\n",
        "Y = Y.sample(frac=1,random_state=42)"
      ],
      "execution_count": null,
      "outputs": []
    },
    {
      "cell_type": "code",
      "metadata": {
        "id": "7f9nzUY85rHM"
      },
      "source": [
        "X = StandardScaler().fit_transform(X)"
      ],
      "execution_count": null,
      "outputs": []
    },
    {
      "cell_type": "markdown",
      "metadata": {
        "id": "1msVjq84vGTf"
      },
      "source": [
        "#Dataset Preprocessing"
      ]
    },
    {
      "cell_type": "code",
      "metadata": {
        "id": "ZT5m3i_998Pz"
      },
      "source": [
        "Xdf = pd.read_pickle('https://github.com/SangeerthanaBalasubramaniam/COVID-19-Diagnosis/blob/main/trainFeatsNew.pckl?raw=true')\n",
        "Ydf = pd.read_pickle('https://github.com/SangeerthanaBalasubramaniam/COVID-19-Diagnosis/blob/main/covidLable.pckl?raw=true')\n",
        "Xdf = pd.DataFrame(Xdf,columns=['lbp_energy','lbp_entropy','glcm_contrast','glcm_dissimilarity','glcm_homogeniety','glcm_energy','glcm_correlation','gabor_energy','gabor_entropy'])\n",
        "Ydf = pd.DataFrame(Ydf,columns=['labels'])\n",
        "label_encoder = LabelEncoder()\n",
        "Ydf['labels'] = label_encoder.fit_transform(Ydf[\"labels\"]) #label encoding labels from categorical to 1 and 0\n",
        "X = Xdf.sample(frac=1,random_state=42) #shuffling dataset\n",
        "Y = Ydf.sample(frac=1,random_state=42) #shuffling dataset\n",
        "Y = Y.values.reshape(-1,1)\n",
        "X = StandardScaler().fit_transform(X) #Normalizing"
      ],
      "execution_count": null,
      "outputs": []
    },
    {
      "cell_type": "markdown",
      "metadata": {
        "id": "gxrNm7GYuDDA"
      },
      "source": [
        "## Data Imbalance"
      ]
    },
    {
      "cell_type": "code",
      "metadata": {
        "colab": {
          "base_uri": "https://localhost:8080/",
          "height": 316
        },
        "id": "7LinRcWUoeR1",
        "outputId": "5a4f56a4-f049-44d3-b361-b564458cc7d0"
      },
      "source": [
        "Ydf.hist()"
      ],
      "execution_count": null,
      "outputs": [
        {
          "output_type": "execute_result",
          "data": {
            "text/plain": [
              "array([[<matplotlib.axes._subplots.AxesSubplot object at 0x7f1f70f33390>]],\n",
              "      dtype=object)"
            ]
          },
          "metadata": {},
          "execution_count": 153
        },
        {
          "output_type": "display_data",
          "data": {
            "image/png": "[encoded data removed]",
            "text/plain": [
              "<Figure size 432x288 with 1 Axes>"
            ]
          },
          "metadata": {
            "needs_background": "light"
          }
        }
      ]
    },
    {
      "cell_type": "markdown",
      "metadata": {
        "id": "W5ITfkw3Wg_S"
      },
      "source": [
        "0-covid<br>\n",
        "1-non-covid"
      ]
    },
    {
      "cell_type": "code",
      "metadata": {
        "colab": {
          "base_uri": "https://localhost:8080/"
        },
        "id": "xiDrzNUxrwX4",
        "outputId": "742aba1e-450c-4555-d7b1-848851a38c75"
      },
      "source": [
        "Ydf.value_counts()"
      ],
      "execution_count": null,
      "outputs": [
        {
          "output_type": "execute_result",
          "data": {
            "text/plain": [
              "labels\n",
              "0         1252\n",
              "1         1229\n",
              "dtype: int64"
            ]
          },
          "metadata": {},
          "execution_count": 154
        }
      ]
    },
    {
      "cell_type": "code",
      "metadata": {
        "id": "aAqNWExUkLs3"
      },
      "source": [
        "def ViewCounter():\n",
        "  target = Ydf.values[:,-1]\n",
        "  counter = Counter(target)\n",
        "  for k,v in counter.items():\n",
        "\t  per = v / len(target) * 100\n",
        "\t  print('Class=%s, Count=%d, Percentage=%.3f%%' % (k, v, per))"
      ],
      "execution_count": null,
      "outputs": []
    },
    {
      "cell_type": "code",
      "metadata": {
        "colab": {
          "base_uri": "https://localhost:8080/"
        },
        "id": "wgoQb1rRkoYV",
        "outputId": "294d8c03-1e87-4e23-cb9c-e33c5cd5a896"
      },
      "source": [
        "ViewCounter()"
      ],
      "execution_count": null,
      "outputs": [
        {
          "output_type": "stream",
          "name": "stdout",
          "text": [
            "Class=0, Count=1252, Percentage=50.464%\n",
            "Class=1, Count=1229, Percentage=49.536%\n"
          ]
        }
      ]
    },
    {
      "cell_type": "markdown",
      "metadata": {
        "id": "Hwycib3hvZSV"
      },
      "source": [
        "The dataset is imbalanced slightly and biased towards covid"
      ]
    },
    {
      "cell_type": "markdown",
      "metadata": {
        "id": "ZIn_bToaWq95"
      },
      "source": [
        "### Over Sampling"
      ]
    },
    {
      "cell_type": "code",
      "metadata": {
        "id": "7Zkzaf57WohJ"
      },
      "source": [
        "oversample = SMOTEN(random_state=0)\n",
        "X,Y = oversample.fit_resample(X,Y)"
      ],
      "execution_count": null,
      "outputs": []
    },
    {
      "cell_type": "code",
      "metadata": {
        "colab": {
          "base_uri": "https://localhost:8080/"
        },
        "id": "lU8cNLZuWr1Z",
        "outputId": "bb941bb4-5b04-4890-8b2c-47996b31e139"
      },
      "source": [
        "unique, counts = np.unique(Y, return_counts=True)\n",
        "np.asarray((unique, counts)).T"
      ],
      "execution_count": null,
      "outputs": [
        {
          "output_type": "execute_result",
          "data": {
            "text/plain": [
              "array([[   0, 1252],\n",
              "       [   1, 1252]])"
            ]
          },
          "metadata": {},
          "execution_count": 158
        }
      ]
    },
    {
      "cell_type": "markdown",
      "metadata": {
        "id": "mIDbOv1XfDY4"
      },
      "source": [
        "# Feature Engineering"
      ]
    },
    {
      "cell_type": "markdown",
      "metadata": {
        "id": "Di0Ilw84Xezp"
      },
      "source": [
        "## Normalization - Already done during extraction<br>\n",
        "## One-hot encoding- neednot be done as they data are not categgorical<br>\n",
        "## Imputation - need not be none as there are no null values<br>\n",
        "## Feature Split - none of the features can be split further"
      ]
    },
    {
      "cell_type": "markdown",
      "metadata": {
        "id": "3QBDMoAYXvEI"
      },
      "source": [
        "## Outlier Removal"
      ]
    },
    {
      "cell_type": "code",
      "metadata": {
        "id": "-PBd9lzwScyG",
        "colab": {
          "base_uri": "https://localhost:8080/"
        },
        "outputId": "1f10b5e5-c010-4877-8ce1-484db6238919"
      },
      "source": [
        "print(Xdf.shape)\n",
        "total = Xdf\n",
        "total[\"labels\"] = Ydf[\"labels\"]\n",
        "total\n",
        "def removeOutlier():\n",
        "  q1 = total['glcm_contrast'].quantile(0.25)\n",
        "  print(q1)\n",
        "  q3 = total['glcm_contrast'].quantile(0.75)\n",
        "  print(q3)\n",
        "  iqr = q3-q1\n",
        "  print(iqr)\n",
        "  upper = q3+1.5*iqr\n",
        "  print(upper)\n",
        "  lower = q1-1.5*iqr\n",
        "  print(lower)\n",
        "  df1 = total['glcm_contrast']\n",
        "  n1 = np.where(df1>=upper)\n",
        "  n2 = np.where(df1<=lower)\n",
        "  total.drop(n1[0], inplace = True)\n",
        "  total.drop(n2[0], inplace = True)\n",
        "removeOutlier()\n",
        "total.shape"
      ],
      "execution_count": null,
      "outputs": [
        {
          "output_type": "stream",
          "name": "stdout",
          "text": [
            "(2481, 9)\n",
            "0.11465121171207829\n",
            "0.32803386507236476\n",
            "0.21338265336028647\n",
            "0.6481078451127944\n",
            "-0.2054227683283514\n"
          ]
        },
        {
          "output_type": "execute_result",
          "data": {
            "text/plain": [
              "(2448, 10)"
            ]
          },
          "metadata": {},
          "execution_count": 159
        }
      ]
    },
    {
      "cell_type": "code",
      "metadata": {
        "id": "Cr7BljptX06Q"
      },
      "source": [
        "Xdf = total.iloc[:,0:-1]\n",
        "Ydf = total.iloc[:,-1]\n",
        "Y = total[\"labels\"].values\n",
        "X = total.drop(\"labels\",axis=1).values"
      ],
      "execution_count": null,
      "outputs": []
    },
    {
      "cell_type": "markdown",
      "metadata": {
        "id": "UjHfPsVTFlrU"
      },
      "source": [
        "#Feature Decomposition"
      ]
    },
    {
      "cell_type": "markdown",
      "metadata": {
        "id": "0qOi2qGggk9_"
      },
      "source": [
        "Dropped gabore filter and lbp energy due to their high correlation with gabore_entropy and lbp_energy"
      ]
    },
    {
      "cell_type": "code",
      "metadata": {
        "id": "3WGeRXgiguKe"
      },
      "source": [
        "#X = X.drop('gabor_energy', axis = 1)\n",
        "#X = X.drop('lbp_entropy', axis = 1)"
      ],
      "execution_count": null,
      "outputs": []
    },
    {
      "cell_type": "markdown",
      "metadata": {
        "id": "xRma6lxU9pHj"
      },
      "source": [
        "## Function for Testing Random Forest"
      ]
    },
    {
      "cell_type": "code",
      "metadata": {
        "id": "nTjeQ16l2lXD"
      },
      "source": [
        "def RandomForestTest(X, Y):\n",
        "    X_Train, X_Test, Y_Train, Y_Test = train_test_split(X, Y, \n",
        "                                                        test_size = 0.30, \n",
        "                                                        random_state = 101)\n",
        "    trainedforest = RandomForestClassifier(n_estimators=700).fit(X_Train,Y_Train)\n",
        "    predictionforest = trainedforest.predict(X_Test)\n",
        "    print(confusion_matrix(Y_Test,predictionforest))\n",
        "    print(classification_report(Y_Test,predictionforest))"
      ],
      "execution_count": null,
      "outputs": []
    },
    {
      "cell_type": "markdown",
      "metadata": {
        "id": "lakOS3fe6myc"
      },
      "source": [
        "## PCA"
      ]
    },
    {
      "cell_type": "code",
      "metadata": {
        "id": "nKPrRhES6l9F"
      },
      "source": [
        "def Pca(n):\n",
        "  pca = PCA(n_components=n)\n",
        "  x = pca.fit_transform(X)\n",
        "  return x"
      ],
      "execution_count": null,
      "outputs": []
    },
    {
      "cell_type": "code",
      "metadata": {
        "colab": {
          "base_uri": "https://localhost:8080/"
        },
        "id": "le0L_XLC72ER",
        "outputId": "bc8532c8-efa4-41d9-c3e4-06d34304426a"
      },
      "source": [
        "X_pca = Pca(5)\n",
        "RandomForestTest(X_pca,Y)"
      ],
      "execution_count": null,
      "outputs": [
        {
          "output_type": "stream",
          "name": "stdout",
          "text": [
            "[[327  49]\n",
            " [ 64 295]]\n",
            "              precision    recall  f1-score   support\n",
            "\n",
            "           0       0.84      0.87      0.85       376\n",
            "           1       0.86      0.82      0.84       359\n",
            "\n",
            "    accuracy                           0.85       735\n",
            "   macro avg       0.85      0.85      0.85       735\n",
            "weighted avg       0.85      0.85      0.85       735\n",
            "\n"
          ]
        }
      ]
    },
    {
      "cell_type": "markdown",
      "metadata": {
        "id": "TuJJ3H2W8HCD"
      },
      "source": [
        "## Fast ICA"
      ]
    },
    {
      "cell_type": "code",
      "metadata": {
        "id": "4CGLTcVZ8EVL"
      },
      "source": [
        "def Ica(n):\n",
        "  ica = FastICA(n_components=n)\n",
        "  x = ica.fit_transform(X)\n",
        "  return x"
      ],
      "execution_count": null,
      "outputs": []
    },
    {
      "cell_type": "code",
      "metadata": {
        "colab": {
          "base_uri": "https://localhost:8080/"
        },
        "id": "ouXZ5_cE8cXs",
        "outputId": "fd278fde-61b8-4d9d-da35-f77a10971dd6"
      },
      "source": [
        "X_Ica = Ica(5)\n",
        "RandomForestTest(X_Ica,Y)"
      ],
      "execution_count": null,
      "outputs": [
        {
          "output_type": "stream",
          "name": "stdout",
          "text": [
            "[[337  39]\n",
            " [ 53 306]]\n",
            "              precision    recall  f1-score   support\n",
            "\n",
            "           0       0.86      0.90      0.88       376\n",
            "           1       0.89      0.85      0.87       359\n",
            "\n",
            "    accuracy                           0.87       735\n",
            "   macro avg       0.88      0.87      0.87       735\n",
            "weighted avg       0.88      0.87      0.87       735\n",
            "\n"
          ]
        }
      ]
    },
    {
      "cell_type": "markdown",
      "metadata": {
        "id": "DAzGTt_Y8vkj"
      },
      "source": [
        "## LDA"
      ]
    },
    {
      "cell_type": "code",
      "metadata": {
        "id": "x7Ky932D8xNz"
      },
      "source": [
        "def Lda(n):\n",
        "  lda = LinearDiscriminantAnalysis(n_components=n)\n",
        "\n",
        "  # run an LDA and use it to transform the features\n",
        "  x = lda.fit(X, Y).transform(X)\n",
        "  print('Original number of features:', X.shape[1])\n",
        "  print('Reduced number of features:', x.shape[1])\n",
        "  return x"
      ],
      "execution_count": null,
      "outputs": []
    },
    {
      "cell_type": "code",
      "metadata": {
        "colab": {
          "base_uri": "https://localhost:8080/"
        },
        "id": "vbKxkeCo88jq",
        "outputId": "22d66520-fdfa-4dc5-cbac-dbc707182ad0"
      },
      "source": [
        "X_lda = Lda(1)\n",
        "RandomForestTest(X_lda,Y)"
      ],
      "execution_count": null,
      "outputs": [
        {
          "output_type": "stream",
          "name": "stdout",
          "text": [
            "Original number of features: 9\n",
            "Reduced number of features: 1\n",
            "[[228 148]\n",
            " [157 202]]\n",
            "              precision    recall  f1-score   support\n",
            "\n",
            "           0       0.59      0.61      0.60       376\n",
            "           1       0.58      0.56      0.57       359\n",
            "\n",
            "    accuracy                           0.59       735\n",
            "   macro avg       0.58      0.58      0.58       735\n",
            "weighted avg       0.58      0.59      0.58       735\n",
            "\n"
          ]
        }
      ]
    },
    {
      "cell_type": "markdown",
      "metadata": {
        "id": "KBzDxUeFCCjy"
      },
      "source": [
        "##LLE"
      ]
    },
    {
      "cell_type": "code",
      "metadata": {
        "id": "n0hUzLfJCEJa"
      },
      "source": [
        "def Lle(n):\n",
        "  embedding = LocallyLinearEmbedding(n_components=3)\n",
        "  x = embedding.fit_transform(X)\n",
        "  return x"
      ],
      "execution_count": null,
      "outputs": []
    },
    {
      "cell_type": "code",
      "metadata": {
        "colab": {
          "base_uri": "https://localhost:8080/"
        },
        "id": "Zemx4Ch_COdp",
        "outputId": "c6e7476e-1a91-4fdd-8d71-15c4b3e53e84"
      },
      "source": [
        "X_lle = Lle(5)\n",
        "RandomForestTest(X_lle,Y)"
      ],
      "execution_count": null,
      "outputs": [
        {
          "output_type": "stream",
          "name": "stdout",
          "text": [
            "[[270 106]\n",
            " [101 258]]\n",
            "              precision    recall  f1-score   support\n",
            "\n",
            "           0       0.73      0.72      0.72       376\n",
            "           1       0.71      0.72      0.71       359\n",
            "\n",
            "    accuracy                           0.72       735\n",
            "   macro avg       0.72      0.72      0.72       735\n",
            "weighted avg       0.72      0.72      0.72       735\n",
            "\n"
          ]
        }
      ]
    },
    {
      "cell_type": "markdown",
      "metadata": {
        "id": "8Lj2X7UNEJYI"
      },
      "source": [
        "## t-SNE"
      ]
    },
    {
      "cell_type": "code",
      "metadata": {
        "id": "JmIKSMwLEM_5"
      },
      "source": [
        "def Tsne(n,verbose,preplexity,n_iter):\n",
        "  tsne = TSNE(n_components=3, verbose=1, perplexity=40, n_iter=300)\n",
        "  x = tsne.fit_transform(X)\n",
        "  return x"
      ],
      "execution_count": null,
      "outputs": []
    },
    {
      "cell_type": "code",
      "metadata": {
        "colab": {
          "base_uri": "https://localhost:8080/"
        },
        "id": "h5rEtTSEEmWC",
        "outputId": "25595dbd-a0fc-46d0-e9bd-35173ffc082d"
      },
      "source": [
        "X_tsne = Tsne(5,1,40,3000)\n",
        "RandomForestTest(X_lle,Y)"
      ],
      "execution_count": null,
      "outputs": [
        {
          "output_type": "stream",
          "name": "stdout",
          "text": [
            "[t-SNE] Computing 121 nearest neighbors...\n",
            "[t-SNE] Indexed 2448 samples in 0.008s...\n",
            "[t-SNE] Computed neighbors for 2448 samples in 0.097s...\n"
          ]
        },
        {
          "output_type": "stream",
          "name": "stderr",
          "text": [
            "/usr/local/lib/python3.7/dist-packages/sklearn/manifold/_t_sne.py:783: FutureWarning: The default initialization in TSNE will change from 'random' to 'pca' in 1.2.\n",
            "  FutureWarning,\n",
            "/usr/local/lib/python3.7/dist-packages/sklearn/manifold/_t_sne.py:793: FutureWarning: The default learning rate in TSNE will change from 200.0 to 'auto' in 1.2.\n",
            "  FutureWarning,\n"
          ]
        },
        {
          "output_type": "stream",
          "name": "stdout",
          "text": [
            "[t-SNE] Computed conditional probabilities for sample 1000 / 2448\n",
            "[t-SNE] Computed conditional probabilities for sample 2000 / 2448\n",
            "[t-SNE] Computed conditional probabilities for sample 2448 / 2448\n",
            "[t-SNE] Mean sigma: 0.040742\n",
            "[t-SNE] KL divergence after 250 iterations with early exaggeration: 62.364292\n",
            "[t-SNE] KL divergence after 300 iterations: 0.762938\n",
            "[[274 102]\n",
            " [103 256]]\n",
            "              precision    recall  f1-score   support\n",
            "\n",
            "           0       0.73      0.73      0.73       376\n",
            "           1       0.72      0.71      0.71       359\n",
            "\n",
            "    accuracy                           0.72       735\n",
            "   macro avg       0.72      0.72      0.72       735\n",
            "weighted avg       0.72      0.72      0.72       735\n",
            "\n"
          ]
        }
      ]
    },
    {
      "cell_type": "markdown",
      "metadata": {
        "id": "eqB6TEHIE8li"
      },
      "source": [
        "## Autoencoders"
      ]
    },
    {
      "cell_type": "code",
      "metadata": {
        "colab": {
          "base_uri": "https://localhost:8080/"
        },
        "id": "jQtqDxAXFEAS",
        "outputId": "bae2ed0d-baa7-4217-987d-da46f8094cea"
      },
      "source": [
        "from keras.layers import Input, Dense\n",
        "from keras.models import Model\n",
        "\n",
        "input_layer = Input(shape=(X.shape[1],))\n",
        "encoded = Dense(9, activation='tanh')(input_layer)\n",
        "decoded = Dense(X.shape[1], activation='softmax')(encoded)\n",
        "autoencoder = Model(input_layer, decoded)\n",
        "autoencoder.compile(optimizer='adam', loss='binary_crossentropy')\n",
        "\n",
        "X1, X2, Y1, Y2 = train_test_split(X, X, test_size=0.3, random_state=101)\n",
        "\n",
        "autoencoder.fit(X1, Y1,\n",
        "                epochs=100,\n",
        "                batch_size=300,\n",
        "                shuffle=True,\n",
        "                verbose = 30,\n",
        "                validation_data=(X2, Y2))\n",
        "\n",
        "encoder = Model(input_layer, encoded)\n",
        "X_ae = encoder.predict(X)"
      ],
      "execution_count": null,
      "outputs": [
        {
          "output_type": "stream",
          "name": "stdout",
          "text": [
            "Epoch 1/100\n",
            "Epoch 2/100\n",
            "Epoch 3/100\n",
            "Epoch 4/100\n",
            "Epoch 5/100\n",
            "Epoch 6/100\n",
            "Epoch 7/100\n",
            "Epoch 8/100\n",
            "Epoch 9/100\n",
            "Epoch 10/100\n",
            "Epoch 11/100\n",
            "Epoch 12/100\n",
            "Epoch 13/100\n",
            "Epoch 14/100\n",
            "Epoch 15/100\n",
            "Epoch 16/100\n",
            "Epoch 17/100\n",
            "Epoch 18/100\n",
            "Epoch 19/100\n",
            "Epoch 20/100\n",
            "Epoch 21/100\n",
            "Epoch 22/100\n",
            "Epoch 23/100\n",
            "Epoch 24/100\n",
            "Epoch 25/100\n",
            "Epoch 26/100\n",
            "Epoch 27/100\n",
            "Epoch 28/100\n",
            "Epoch 29/100\n",
            "Epoch 30/100\n",
            "Epoch 31/100\n",
            "Epoch 32/100\n",
            "Epoch 33/100\n",
            "Epoch 34/100\n",
            "Epoch 35/100\n",
            "Epoch 36/100\n",
            "Epoch 37/100\n",
            "Epoch 38/100\n",
            "Epoch 39/100\n",
            "Epoch 40/100\n",
            "Epoch 41/100\n",
            "Epoch 42/100\n",
            "Epoch 43/100\n",
            "Epoch 44/100\n",
            "Epoch 45/100\n",
            "Epoch 46/100\n",
            "Epoch 47/100\n",
            "Epoch 48/100\n",
            "Epoch 49/100\n",
            "Epoch 50/100\n",
            "Epoch 51/100\n",
            "Epoch 52/100\n",
            "Epoch 53/100\n",
            "Epoch 54/100\n",
            "Epoch 55/100\n",
            "Epoch 56/100\n",
            "Epoch 57/100\n",
            "Epoch 58/100\n",
            "Epoch 59/100\n",
            "Epoch 60/100\n",
            "Epoch 61/100\n",
            "Epoch 62/100\n",
            "Epoch 63/100\n",
            "Epoch 64/100\n",
            "Epoch 65/100\n",
            "Epoch 66/100\n",
            "Epoch 67/100\n",
            "Epoch 68/100\n",
            "Epoch 69/100\n",
            "Epoch 70/100\n",
            "Epoch 71/100\n",
            "Epoch 72/100\n",
            "Epoch 73/100\n",
            "Epoch 74/100\n",
            "Epoch 75/100\n",
            "Epoch 76/100\n",
            "Epoch 77/100\n",
            "Epoch 78/100\n",
            "Epoch 79/100\n",
            "Epoch 80/100\n",
            "Epoch 81/100\n",
            "Epoch 82/100\n",
            "Epoch 83/100\n",
            "Epoch 84/100\n",
            "Epoch 85/100\n",
            "Epoch 86/100\n",
            "Epoch 87/100\n",
            "Epoch 88/100\n",
            "Epoch 89/100\n",
            "Epoch 90/100\n",
            "Epoch 91/100\n",
            "Epoch 92/100\n",
            "Epoch 93/100\n",
            "Epoch 94/100\n",
            "Epoch 95/100\n",
            "Epoch 96/100\n",
            "Epoch 97/100\n",
            "Epoch 98/100\n",
            "Epoch 99/100\n",
            "Epoch 100/100\n"
          ]
        }
      ]
    },
    {
      "cell_type": "code",
      "metadata": {
        "colab": {
          "base_uri": "https://localhost:8080/"
        },
        "id": "XMoW0FrRFIqh",
        "outputId": "bdfc3dfb-8a18-4dca-be1f-714d7fbba759"
      },
      "source": [
        "RandomForestTest(X_ae,Y)"
      ],
      "execution_count": null,
      "outputs": [
        {
          "output_type": "stream",
          "name": "stdout",
          "text": [
            "[[298  78]\n",
            " [ 69 290]]\n",
            "              precision    recall  f1-score   support\n",
            "\n",
            "           0       0.81      0.79      0.80       376\n",
            "           1       0.79      0.81      0.80       359\n",
            "\n",
            "    accuracy                           0.80       735\n",
            "   macro avg       0.80      0.80      0.80       735\n",
            "weighted avg       0.80      0.80      0.80       735\n",
            "\n"
          ]
        }
      ]
    },
    {
      "cell_type": "markdown",
      "metadata": {
        "id": "OCcaztjb-m-N"
      },
      "source": [
        "# Comparison between models"
      ]
    },
    {
      "cell_type": "markdown",
      "metadata": {
        "id": "lZCz-A2XQBC8"
      },
      "source": [
        "## ID3 "
      ]
    },
    {
      "cell_type": "code",
      "metadata": {
        "id": "8qvue6LXQOte"
      },
      "source": [
        "from sklearn import tree\n",
        "def ID(X, Y):\n",
        "    X_Train, X_Test, Y_Train, Y_Test = train_test_split(X, Y, \n",
        "                                                        test_size = 0.30, \n",
        "                                                        random_state = 101)\n",
        "    clf = tree.DecisionTreeClassifier()\n",
        "    clf = clf.fit(X_Train, Y_Train)\n",
        "    prediction = clf.predict(X_Test)\n",
        "    print(confusion_matrix(Y_Test,prediction))\n",
        "    print(classification_report(Y_Test,prediction))"
      ],
      "execution_count": null,
      "outputs": []
    },
    {
      "cell_type": "code",
      "metadata": {
        "id": "E4Ul-RkHQOs0",
        "colab": {
          "base_uri": "https://localhost:8080/"
        },
        "outputId": "6ed07026-4487-4954-dcb5-e855aa015643"
      },
      "source": [
        "ID(X,Y)"
      ],
      "execution_count": null,
      "outputs": [
        {
          "output_type": "stream",
          "name": "stdout",
          "text": [
            "[[304  72]\n",
            " [ 67 292]]\n",
            "              precision    recall  f1-score   support\n",
            "\n",
            "           0       0.82      0.81      0.81       376\n",
            "           1       0.80      0.81      0.81       359\n",
            "\n",
            "    accuracy                           0.81       735\n",
            "   macro avg       0.81      0.81      0.81       735\n",
            "weighted avg       0.81      0.81      0.81       735\n",
            "\n"
          ]
        }
      ]
    },
    {
      "cell_type": "markdown",
      "metadata": {
        "id": "vvzw07-zSvAC"
      },
      "source": [
        "## SVM"
      ]
    },
    {
      "cell_type": "code",
      "metadata": {
        "id": "bz17Qi7IS1QC"
      },
      "source": [
        "from sklearn import svm\n",
        "def SVM(X, Y):    \n",
        "    X_Train, X_Test, Y_Train, Y_Test = train_test_split(X, Y, \n",
        "                                                        test_size = 0.30, \n",
        "                                                        random_state = 101)\n",
        "    clf = svm.SVC()\n",
        "    clf = clf.fit(X_Train, Y_Train)\n",
        "    prediction = clf.predict(X_Test)\n",
        "    print(confusion_matrix(Y_Test,prediction))\n",
        "    print(classification_report(Y_Test,prediction))"
      ],
      "execution_count": null,
      "outputs": []
    },
    {
      "cell_type": "code",
      "metadata": {
        "colab": {
          "base_uri": "https://localhost:8080/"
        },
        "id": "L_oh4zs3TFQt",
        "outputId": "69600ee9-1477-4de1-ec4a-66841a7f37c4"
      },
      "source": [
        "SVM(X,Y)"
      ],
      "execution_count": null,
      "outputs": [
        {
          "output_type": "stream",
          "name": "stdout",
          "text": [
            "[[297  79]\n",
            " [ 84 275]]\n",
            "              precision    recall  f1-score   support\n",
            "\n",
            "           0       0.78      0.79      0.78       376\n",
            "           1       0.78      0.77      0.77       359\n",
            "\n",
            "    accuracy                           0.78       735\n",
            "   macro avg       0.78      0.78      0.78       735\n",
            "weighted avg       0.78      0.78      0.78       735\n",
            "\n"
          ]
        }
      ]
    },
    {
      "cell_type": "markdown",
      "metadata": {
        "id": "e6hMib8CcyEI"
      },
      "source": [
        "## Logistic Regression"
      ]
    },
    {
      "cell_type": "code",
      "metadata": {
        "colab": {
          "base_uri": "https://localhost:8080/"
        },
        "id": "Ix7cUCZfc6-W",
        "outputId": "d53b6602-4bec-46da-8569-289640914b5c"
      },
      "source": [
        "from sklearn.linear_model import LogisticRegression\n",
        "def Logistic(X,Y):\n",
        "  X_Train, X_Test, Y_Train, Y_Test = train_test_split(X, Y, \n",
        "                                                        test_size = 0.30, \n",
        "                                                        random_state = 101)\n",
        "  model = LogisticRegression()\n",
        "  model = model.fit(X_Train,Y_Train)\n",
        "  prediction = model.predict(X_Test)\n",
        "  print(confusion_matrix(Y_Test,prediction))\n",
        "  print(classification_report(Y_Test,prediction))\n",
        "Logistic(X,Y)"
      ],
      "execution_count": null,
      "outputs": [
        {
          "output_type": "stream",
          "name": "stdout",
          "text": [
            "[[248 128]\n",
            " [140 219]]\n",
            "              precision    recall  f1-score   support\n",
            "\n",
            "           0       0.64      0.66      0.65       376\n",
            "           1       0.63      0.61      0.62       359\n",
            "\n",
            "    accuracy                           0.64       735\n",
            "   macro avg       0.64      0.63      0.63       735\n",
            "weighted avg       0.64      0.64      0.64       735\n",
            "\n"
          ]
        }
      ]
    },
    {
      "cell_type": "markdown",
      "metadata": {
        "id": "gWlHKL688eo1"
      },
      "source": [
        "## KNN"
      ]
    },
    {
      "cell_type": "code",
      "metadata": {
        "colab": {
          "base_uri": "https://localhost:8080/"
        },
        "id": "QN6nK6pq8hz8",
        "outputId": "44b39134-f118-43fa-d53a-c06c6013044a"
      },
      "source": [
        "from sklearn.neighbors import KNeighborsClassifier  \n",
        "def knn(X,Y):\n",
        "  X_Train, X_Test, Y_Train, Y_Test = train_test_split(X, Y, \n",
        "                                                        test_size = 0.30, \n",
        "                                                        random_state = 101)\n",
        "  n = round(math.sqrt(X.size))\n",
        "  classifier= KNeighborsClassifier(n_neighbors=n, metric='minkowski', p=2 )  \n",
        "  classifier.fit(X_Train, Y_Train)\n",
        "  prediction = classifier.predict(X_Test)\n",
        "  print(confusion_matrix(Y_Test,prediction))\n",
        "  print(classification_report(Y_Test,prediction))\n",
        "knn(X,Y)"
      ],
      "execution_count": null,
      "outputs": [
        {
          "output_type": "stream",
          "name": "stdout",
          "text": [
            "[[257 119]\n",
            " [108 251]]\n",
            "              precision    recall  f1-score   support\n",
            "\n",
            "           0       0.70      0.68      0.69       376\n",
            "           1       0.68      0.70      0.69       359\n",
            "\n",
            "    accuracy                           0.69       735\n",
            "   macro avg       0.69      0.69      0.69       735\n",
            "weighted avg       0.69      0.69      0.69       735\n",
            "\n"
          ]
        }
      ]
    }
  ]
}